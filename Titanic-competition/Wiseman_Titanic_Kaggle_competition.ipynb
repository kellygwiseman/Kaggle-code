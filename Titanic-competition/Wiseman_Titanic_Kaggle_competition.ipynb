{
 "cells": [
  {
   "cell_type": "markdown",
   "metadata": {},
   "source": [
    "This is Kelly Wiseman's Ipython notebook from the Titanic Kaggle knowledge competition. Check out Kaggle's website for more competition details and data files."
   ]
  },
  {
   "cell_type": "markdown",
   "metadata": {},
   "source": [
    "# Predict survival on the Titanic\n",
    "\n",
    "The sinking of the RMS Titanic is one of the most infamous shipwrecks in history.  On April 15, 1912, during her maiden voyage, the Titanic sank after colliding with an iceberg, killing 1502 out of 2224 passengers and crew. This sensational tragedy shocked the international community and led to better safety regulations for ships.\n",
    "\n",
    "One of the reasons that the shipwreck led to such loss of life was that there were not enough lifeboats for the passengers and crew. Although there was some element of luck involved in surviving the sinking, some groups of people were more likely to survive than others, such as women, children, and the upper-class.\n",
    "\n",
    "## Goal\n",
    "In this Kaggle challenge, we are asked to apply the tools of machine learning to predict which passengers survived the tragedy.\n",
    "\n",
    "## Data\n",
    "Given: training set (891 rows) with survival classification and test set (418 rows) without survival classification\n",
    "\n",
    "VARIABLE DESCRIPTIONS:\n",
    "\n",
    "<li>survival: Survival (0 = No; 1 = Yes)</li>\n",
    "<li>pclass: Passenger Class (1 = 1st; 2 = 2nd; 3 = 3rd)</li>\n",
    "<li>name: Name</li>\n",
    "<li>sex: Sex (male or female)</li>\n",
    "<li>age: Age</li>\n",
    "<li>sibsp: Number of Siblings/Spouses Aboard</li>\n",
    "<li>parch: Number of Parents/Children Aboard</li>\n",
    "<li>ticket: Ticket Number</li>\n",
    "<li>fare: Passenger Fare</li>\n",
    "<li>cabin: Cabin</li>\n",
    "<li>embarked: Port of Embarkation (C = Cherbourg; Q = Queenstown; S = Southampton)</li>\n",
    "\n",
    "SPECIAL NOTES:\n",
    "\n",
    "Pclass is a proxy for socio-economic status: 1st ~ Upper; 2nd ~ Middle; 3rd ~ Lower\n",
    "\n",
    "Age is in Years; Fractional if Age less than One (1). If the Age is Estimated, it is in the form xx.5\n",
    "\n",
    "With respect to the family relation variables (i.e. sibsp and parch) some relations were ignored.  The following are the definitions used for sibsp and parch.\n",
    "\n",
    "<li>Sibling:  Brother, Sister, Stepbrother, or Stepsister of Passenger Aboard Titanic</li>\n",
    "<li>Spouse:   Husband or Wife of Passenger Aboard Titanic (Mistresses and Fiances Ignored)</li>\n",
    "<li>Parent:   Mother or Father of Passenger Aboard Titanic</li>\n",
    "<li>Child:    Son, Daughter, Stepson, or Stepdaughter of Passenger Aboard Titanic</li>\n",
    "\n",
    "Other family relatives excluded from this study include cousins,nephews/nieces, aunts/uncles, and in-laws.  Some children travelled only with a nanny, therefore parch=0 for them.  As well, some travelled with very close friends or neighbors in a village, however, the definitions do not support such relations.\n",
    "\n",
    "## Results\n",
    "<li>I tested several machine learning tools, both to learn how to use them in general, and to see how well they perform on the Titanic dataset. The feature selection tool showed that the parent-child and normalized-age features were less important for predicting survival than class, sibling-spouse, gender, normalized-fare, and the features I created: penalty, age group, and family size. I ran most of the classification models with both the full dataset (with only the non-numerical features removed), and the reduced-feature dataset (with parent-child and normalized-age removed).</li>\n",
    "<li>The logistic regression classifier is not prone to over-fitting. This dataset is somewhat sensitive to the regularization parameter. The fit to the full training dataset with the default parameters is 82%, with cross-validation score of 80% and Kaggle score of 76%. The Kaggle score ranges from 74% to 78% with the regularization parameter ranging from 0.1 to 10, and highest score at r = 0.4. The fit to the reduced-feature training set with default parameters is 81% with a cross-validation score of 80% and Kaggle score of 73%. The reduced-feature data is best fit with a lower regularization parameter between 0.05 - 0.1, producing a Kaggle score of 77%.</li>\n",
    "<li>The decision tree classifier is prone to over-fitting. With the default settings, the training data is fit at 98%, but the mean cross-validation score is 77% and the test data is fit by Kaggle at 62%. The over-fitting is reduced when you use the reduced-feature data, with training data fit of 94%, cross-validation score of 81%, and Kaggle score of 70%. It also helps considerably when you limit the maximum depth of the tree, and include a minimum number of samples per leaf node. I used a minimum number of samples per leaf of 5 and tuned the maximum depth of the tree. The optimal depth is 3, with a fit to the training data of 83%, cross-validation score of 81%, and Kaggle score of 78%. </li>\n",
    "<li>For the ensemble classifier random forest, I started with the same tree maximum depth and minimum number of samples per leaf node as for the decision tree classifier and I used a maximum of 1000 estimators. The fit to the full training dataset is 83%, with cross-validation score of 82% and Kaggle score of 76%. The fit to the reduced-feature training set is also 84% with a cross-validation score of 82% and Kaggle score of 76%. I tested other maxium tree depth values, and the Kaggle score improved slightly to 77% with a maximum depth of 5. The fit did not improve by increasing the number of estimators.</li>\n",
    "<li>For the ensemble classifier AdaBoost, I used the default base estimator and tuned the learning rate and the number of estimators. I tested learning rates between 0.1 and 1.0 and number of estimators between 1000 and 3000.  For the full training set, the best Kaggle score of 78% was found with learning rate of 0.1 and number of estimators of 3000, which had a fit to the training data of 85% and cross-validation score of 82%.  Since the best score was found at the edge of my parameter space, it might improve with further tuning. I did not test the reduced-feature dataset with this classifier method.</li>\n",
    "<li>For the Gradient Boosting ensemble classifier, I tried performing a parameter grid search instead of manually tuning the input parameters. The parameter ranges tested were: number of estimators 50 - 5000, learning rate 0.005 - 1.0, maximum features 2 - 6, maximum tree depth 2 - 6. The optimal cross-validation score was acheived with number of estimators = 300, learning rate = 0.01, maximum features = 4 and maximum depth = 4. This produced a Kaggle score of 77%. I acheived the same Kaggle score with maximum features and maximum depth = 3, and with learning rate = 0.02. This shows that the Titanic dataset is not large enough for the best cross-validation score to directly correlate with the best prediction. I did not test the reduced-feature dataset with this classifier method.</li>\n",
    "<li>Overall the logistic regression and decision tree classifier performed best, correctly predicting passenger survival for 78% of the Titanic test data. Logistic regression was fast and easy to optimize the regularization parameter. The decision tree classifier was prone to over-fitting and I needed to tune several parameters to get optimal results.  The ensemble classifiers produced similar results, but did not improve upon the simpler classification methods for this small Titanic dataset.  For the best models, the cross-validation score is still 3-5% higher than the Kaggle score, and I'm assuming it's because the dataset is too small. Also, for this dataset, you can't rely on the best prediction result coming from the highest cross-validation score. In general, using the reduced-feature dataset helped to reduce model over-fitting, but did not produce the best Kaggle predictions.</li>\n"
   ]
  },
  {
   "cell_type": "markdown",
   "metadata": {},
   "source": [
    "## Exploratory Analysis"
   ]
  },
  {
   "cell_type": "code",
   "execution_count": 2,
   "metadata": {},
   "outputs": [],
   "source": [
    "# import packages\n",
    "import pandas as pd\n",
    "import numpy as np\n",
    "import brewer2mpl\n",
    "import matplotlib.pyplot as plt\n",
    "%matplotlib inline\n",
    "\n",
    "# read in data\n",
    "training_df = pd.read_csv('data/titanic/train.csv', header=0)\n",
    "test_df = pd.read_csv('data/titanic/test.csv', header=0)\n"
   ]
  },
  {
   "cell_type": "code",
   "execution_count": 3,
   "metadata": {},
   "outputs": [],
   "source": [
    "# Set up some better defaults for matplotlib\n",
    "from matplotlib import rcParams\n",
    "\n",
    "#colorbrewer2 Dark2 qualitative color table\n",
    "dark2_colors = brewer2mpl.get_map('Dark2', 'Qualitative', 7).mpl_colors\n",
    "\n",
    "rcParams['figure.figsize'] = (10, 6)\n",
    "rcParams['figure.dpi'] = 150\n",
    "rcParams['axes.color_cycle'] = dark2_colors\n",
    "rcParams['lines.linewidth'] = 2\n",
    "rcParams['axes.facecolor'] = 'white'\n",
    "rcParams['font.size'] = 14\n",
    "rcParams['patch.edgecolor'] = 'white'\n",
    "rcParams['patch.facecolor'] = dark2_colors[0]\n",
    "rcParams['font.family'] = 'StixGeneral'\n"
   ]
  },
  {
   "cell_type": "code",
   "execution_count": 4,
   "metadata": {},
   "outputs": [
    {
     "data": {
      "text/html": [
       "<div style=\"max-height:1000px;max-width:1500px;overflow:auto;\">\n",
       "<table border=\"1\" class=\"dataframe\">\n",
       "  <thead>\n",
       "    <tr style=\"text-align: right;\">\n",
       "      <th></th>\n",
       "      <th>survived</th>\n",
       "      <th>pclass</th>\n",
       "      <th>name</th>\n",
       "      <th>sex</th>\n",
       "      <th>age</th>\n",
       "      <th>sibsp</th>\n",
       "      <th>parch</th>\n",
       "      <th>ticket</th>\n",
       "      <th>fare</th>\n",
       "      <th>cabin</th>\n",
       "      <th>embarked</th>\n",
       "    </tr>\n",
       "  </thead>\n",
       "  <tbody>\n",
       "    <tr>\n",
       "      <th>0</th>\n",
       "      <td> 0</td>\n",
       "      <td> 3</td>\n",
       "      <td>                           Braund, Mr. Owen Harris</td>\n",
       "      <td>   male</td>\n",
       "      <td> 22</td>\n",
       "      <td> 1</td>\n",
       "      <td> 0</td>\n",
       "      <td>        A/5 21171</td>\n",
       "      <td>  7.2500</td>\n",
       "      <td>  NaN</td>\n",
       "      <td> S</td>\n",
       "    </tr>\n",
       "    <tr>\n",
       "      <th>1</th>\n",
       "      <td> 1</td>\n",
       "      <td> 1</td>\n",
       "      <td> Cumings, Mrs. John Bradley (Florence Briggs Th...</td>\n",
       "      <td> female</td>\n",
       "      <td> 38</td>\n",
       "      <td> 1</td>\n",
       "      <td> 0</td>\n",
       "      <td>         PC 17599</td>\n",
       "      <td> 71.2833</td>\n",
       "      <td>  C85</td>\n",
       "      <td> C</td>\n",
       "    </tr>\n",
       "    <tr>\n",
       "      <th>2</th>\n",
       "      <td> 1</td>\n",
       "      <td> 3</td>\n",
       "      <td>                            Heikkinen, Miss. Laina</td>\n",
       "      <td> female</td>\n",
       "      <td> 26</td>\n",
       "      <td> 0</td>\n",
       "      <td> 0</td>\n",
       "      <td> STON/O2. 3101282</td>\n",
       "      <td>  7.9250</td>\n",
       "      <td>  NaN</td>\n",
       "      <td> S</td>\n",
       "    </tr>\n",
       "    <tr>\n",
       "      <th>3</th>\n",
       "      <td> 1</td>\n",
       "      <td> 1</td>\n",
       "      <td>      Futrelle, Mrs. Jacques Heath (Lily May Peel)</td>\n",
       "      <td> female</td>\n",
       "      <td> 35</td>\n",
       "      <td> 1</td>\n",
       "      <td> 0</td>\n",
       "      <td>           113803</td>\n",
       "      <td> 53.1000</td>\n",
       "      <td> C123</td>\n",
       "      <td> S</td>\n",
       "    </tr>\n",
       "    <tr>\n",
       "      <th>4</th>\n",
       "      <td> 0</td>\n",
       "      <td> 3</td>\n",
       "      <td>                          Allen, Mr. William Henry</td>\n",
       "      <td>   male</td>\n",
       "      <td> 35</td>\n",
       "      <td> 0</td>\n",
       "      <td> 0</td>\n",
       "      <td>           373450</td>\n",
       "      <td>  8.0500</td>\n",
       "      <td>  NaN</td>\n",
       "      <td> S</td>\n",
       "    </tr>\n",
       "    <tr>\n",
       "      <th>5</th>\n",
       "      <td> 0</td>\n",
       "      <td> 3</td>\n",
       "      <td>                                  Moran, Mr. James</td>\n",
       "      <td>   male</td>\n",
       "      <td>NaN</td>\n",
       "      <td> 0</td>\n",
       "      <td> 0</td>\n",
       "      <td>           330877</td>\n",
       "      <td>  8.4583</td>\n",
       "      <td>  NaN</td>\n",
       "      <td> Q</td>\n",
       "    </tr>\n",
       "    <tr>\n",
       "      <th>6</th>\n",
       "      <td> 0</td>\n",
       "      <td> 1</td>\n",
       "      <td>                           McCarthy, Mr. Timothy J</td>\n",
       "      <td>   male</td>\n",
       "      <td> 54</td>\n",
       "      <td> 0</td>\n",
       "      <td> 0</td>\n",
       "      <td>            17463</td>\n",
       "      <td> 51.8625</td>\n",
       "      <td>  E46</td>\n",
       "      <td> S</td>\n",
       "    </tr>\n",
       "    <tr>\n",
       "      <th>7</th>\n",
       "      <td> 0</td>\n",
       "      <td> 3</td>\n",
       "      <td>                    Palsson, Master. Gosta Leonard</td>\n",
       "      <td>   male</td>\n",
       "      <td>  2</td>\n",
       "      <td> 3</td>\n",
       "      <td> 1</td>\n",
       "      <td>           349909</td>\n",
       "      <td> 21.0750</td>\n",
       "      <td>  NaN</td>\n",
       "      <td> S</td>\n",
       "    </tr>\n",
       "    <tr>\n",
       "      <th>8</th>\n",
       "      <td> 1</td>\n",
       "      <td> 3</td>\n",
       "      <td> Johnson, Mrs. Oscar W (Elisabeth Vilhelmina Berg)</td>\n",
       "      <td> female</td>\n",
       "      <td> 27</td>\n",
       "      <td> 0</td>\n",
       "      <td> 2</td>\n",
       "      <td>           347742</td>\n",
       "      <td> 11.1333</td>\n",
       "      <td>  NaN</td>\n",
       "      <td> S</td>\n",
       "    </tr>\n",
       "    <tr>\n",
       "      <th>9</th>\n",
       "      <td> 1</td>\n",
       "      <td> 2</td>\n",
       "      <td>               Nasser, Mrs. Nicholas (Adele Achem)</td>\n",
       "      <td> female</td>\n",
       "      <td> 14</td>\n",
       "      <td> 1</td>\n",
       "      <td> 0</td>\n",
       "      <td>           237736</td>\n",
       "      <td> 30.0708</td>\n",
       "      <td>  NaN</td>\n",
       "      <td> C</td>\n",
       "    </tr>\n",
       "  </tbody>\n",
       "</table>\n",
       "<p>10 rows × 11 columns</p>\n",
       "</div>"
      ],
      "text/plain": [
       "   survived  pclass                                               name  \\\n",
       "0         0       3                            Braund, Mr. Owen Harris   \n",
       "1         1       1  Cumings, Mrs. John Bradley (Florence Briggs Th...   \n",
       "2         1       3                             Heikkinen, Miss. Laina   \n",
       "3         1       1       Futrelle, Mrs. Jacques Heath (Lily May Peel)   \n",
       "4         0       3                           Allen, Mr. William Henry   \n",
       "5         0       3                                   Moran, Mr. James   \n",
       "6         0       1                            McCarthy, Mr. Timothy J   \n",
       "7         0       3                     Palsson, Master. Gosta Leonard   \n",
       "8         1       3  Johnson, Mrs. Oscar W (Elisabeth Vilhelmina Berg)   \n",
       "9         1       2                Nasser, Mrs. Nicholas (Adele Achem)   \n",
       "\n",
       "      sex  age  sibsp  parch            ticket     fare cabin embarked  \n",
       "0    male   22      1      0         A/5 21171   7.2500   NaN        S  \n",
       "1  female   38      1      0          PC 17599  71.2833   C85        C  \n",
       "2  female   26      0      0  STON/O2. 3101282   7.9250   NaN        S  \n",
       "3  female   35      1      0            113803  53.1000  C123        S  \n",
       "4    male   35      0      0            373450   8.0500   NaN        S  \n",
       "5    male  NaN      0      0            330877   8.4583   NaN        Q  \n",
       "6    male   54      0      0             17463  51.8625   E46        S  \n",
       "7    male    2      3      1            349909  21.0750   NaN        S  \n",
       "8  female   27      0      2            347742  11.1333   NaN        S  \n",
       "9  female   14      1      0            237736  30.0708   NaN        C  \n",
       "\n",
       "[10 rows x 11 columns]"
      ]
     },
     "execution_count": 4,
     "metadata": {},
     "output_type": "execute_result"
    }
   ],
   "source": [
    "# view training data\n",
    "training_df.head(10)"
   ]
  },
  {
   "cell_type": "code",
   "execution_count": 5,
   "metadata": {},
   "outputs": [
    {
     "name": "stdout",
     "output_type": "stream",
     "text": [
      "<class 'pandas.core.frame.DataFrame'>\n",
      "Int64Index: 891 entries, 0 to 890\n",
      "Data columns (total 11 columns):\n",
      "survived    891 non-null int64\n",
      "pclass      891 non-null int64\n",
      "name        891 non-null object\n",
      "sex         891 non-null object\n",
      "age         714 non-null float64\n",
      "sibsp       891 non-null int64\n",
      "parch       891 non-null int64\n",
      "ticket      891 non-null object\n",
      "fare        891 non-null float64\n",
      "cabin       204 non-null object\n",
      "embarked    889 non-null object\n",
      "dtypes: float64(2), int64(4), object(5)"
     ]
    }
   ],
   "source": [
    "# check for data type and null values\n",
    "training_df.info()"
   ]
  },
  {
   "cell_type": "code",
   "execution_count": 6,
   "metadata": {},
   "outputs": [
    {
     "data": {
      "text/html": [
       "<div style=\"max-height:1000px;max-width:1500px;overflow:auto;\">\n",
       "<table border=\"1\" class=\"dataframe\">\n",
       "  <thead>\n",
       "    <tr style=\"text-align: right;\">\n",
       "      <th></th>\n",
       "      <th>survived</th>\n",
       "      <th>pclass</th>\n",
       "      <th>age</th>\n",
       "      <th>sibsp</th>\n",
       "      <th>parch</th>\n",
       "      <th>fare</th>\n",
       "    </tr>\n",
       "  </thead>\n",
       "  <tbody>\n",
       "    <tr>\n",
       "      <th>count</th>\n",
       "      <td> 891.000000</td>\n",
       "      <td> 891.000000</td>\n",
       "      <td> 714.000000</td>\n",
       "      <td> 891.000000</td>\n",
       "      <td> 891.000000</td>\n",
       "      <td> 891.000000</td>\n",
       "    </tr>\n",
       "    <tr>\n",
       "      <th>mean</th>\n",
       "      <td>   0.383838</td>\n",
       "      <td>   2.308642</td>\n",
       "      <td>  29.699118</td>\n",
       "      <td>   0.523008</td>\n",
       "      <td>   0.381594</td>\n",
       "      <td>  32.204208</td>\n",
       "    </tr>\n",
       "    <tr>\n",
       "      <th>std</th>\n",
       "      <td>   0.486592</td>\n",
       "      <td>   0.836071</td>\n",
       "      <td>  14.526497</td>\n",
       "      <td>   1.102743</td>\n",
       "      <td>   0.806057</td>\n",
       "      <td>  49.693429</td>\n",
       "    </tr>\n",
       "    <tr>\n",
       "      <th>min</th>\n",
       "      <td>   0.000000</td>\n",
       "      <td>   1.000000</td>\n",
       "      <td>   0.420000</td>\n",
       "      <td>   0.000000</td>\n",
       "      <td>   0.000000</td>\n",
       "      <td>   0.000000</td>\n",
       "    </tr>\n",
       "    <tr>\n",
       "      <th>25%</th>\n",
       "      <td>   0.000000</td>\n",
       "      <td>   2.000000</td>\n",
       "      <td>  20.125000</td>\n",
       "      <td>   0.000000</td>\n",
       "      <td>   0.000000</td>\n",
       "      <td>   7.910400</td>\n",
       "    </tr>\n",
       "    <tr>\n",
       "      <th>50%</th>\n",
       "      <td>   0.000000</td>\n",
       "      <td>   3.000000</td>\n",
       "      <td>  28.000000</td>\n",
       "      <td>   0.000000</td>\n",
       "      <td>   0.000000</td>\n",
       "      <td>  14.454200</td>\n",
       "    </tr>\n",
       "    <tr>\n",
       "      <th>75%</th>\n",
       "      <td>   1.000000</td>\n",
       "      <td>   3.000000</td>\n",
       "      <td>  38.000000</td>\n",
       "      <td>   1.000000</td>\n",
       "      <td>   0.000000</td>\n",
       "      <td>  31.000000</td>\n",
       "    </tr>\n",
       "    <tr>\n",
       "      <th>max</th>\n",
       "      <td>   1.000000</td>\n",
       "      <td>   3.000000</td>\n",
       "      <td>  80.000000</td>\n",
       "      <td>   8.000000</td>\n",
       "      <td>   6.000000</td>\n",
       "      <td> 512.329200</td>\n",
       "    </tr>\n",
       "  </tbody>\n",
       "</table>\n",
       "<p>8 rows × 6 columns</p>\n",
       "</div>"
      ],
      "text/plain": [
       "         survived      pclass         age       sibsp       parch        fare\n",
       "count  891.000000  891.000000  714.000000  891.000000  891.000000  891.000000\n",
       "mean     0.383838    2.308642   29.699118    0.523008    0.381594   32.204208\n",
       "std      0.486592    0.836071   14.526497    1.102743    0.806057   49.693429\n",
       "min      0.000000    1.000000    0.420000    0.000000    0.000000    0.000000\n",
       "25%      0.000000    2.000000   20.125000    0.000000    0.000000    7.910400\n",
       "50%      0.000000    3.000000   28.000000    0.000000    0.000000   14.454200\n",
       "75%      1.000000    3.000000   38.000000    1.000000    0.000000   31.000000\n",
       "max      1.000000    3.000000   80.000000    8.000000    6.000000  512.329200\n",
       "\n",
       "[8 rows x 6 columns]"
      ]
     },
     "execution_count": 6,
     "metadata": {},
     "output_type": "execute_result"
    }
   ],
   "source": [
    "# view basic statistics \n",
    "training_df.describe()"
   ]
  },
  {
   "cell_type": "code",
   "execution_count": 7,
   "metadata": {},
   "outputs": [
    {
     "data": {
      "text/plain": [
       "<matplotlib.text.Text at 0x10953d490>"
      ]
     },
     "execution_count": 7,
     "metadata": {},
     "output_type": "execute_result"
    },
    {
     "data": {
      "image/png": "[encoded data removed]",
      "text/plain": [
       "<matplotlib.figure.Figure at 0x1087815d0>"
      ]
     },
     "metadata": {},
     "output_type": "display_data"
    }
   ],
   "source": [
    "### plot the age distribution ###\n",
    "\n",
    "plt.subplot(121)\n",
    "plt.scatter(training_df.age, training_df.survived, color='k', alpha=0.05)\n",
    "plt.ylim(-1, 2)\n",
    "plt.yticks([0.0, 1.0], ['Died', 'Survived'], rotation='horizontal')\n",
    "plt.xlim(0, training_df.age.max())\n",
    "plt.xlabel(\"Age\")\n",
    "\n",
    "plt.subplot(122)\n",
    "plt.hist(training_df.age.dropna(),bins=8) \n",
    "plt.xlabel(\"Age\")\n",
    "plt.ylabel(\"Count\")\n"
   ]
  },
  {
   "cell_type": "code",
   "execution_count": 8,
   "metadata": {},
   "outputs": [
    {
     "name": "stdout",
     "output_type": "stream",
     "text": [
      "survived    0    1\n",
      "pclass            \n",
      "1          80  136\n",
      "2          97   87\n",
      "3         372  119\n",
      "\n",
      "[3 rows x 2 columns]\n"
     ]
    },
    {
     "data": {
      "text/plain": [
       "<matplotlib.text.Text at 0x1094f52d0>"
      ]
     },
     "execution_count": 8,
     "metadata": {},
     "output_type": "execute_result"
    },
    {
     "data": {
      "image/png": "[encoded data removed]",
      "text/plain": [
       "<matplotlib.figure.Figure at 0x106fa4190>"
      ]
     },
     "metadata": {},
     "output_type": "display_data"
    }
   ],
   "source": [
    "### plot the class distribution ###\n",
    "tclass = training_df.groupby(['pclass', 'survived']).size().unstack()\n",
    "print tclass\n",
    "\n",
    "plt.subplot(121)\n",
    "plt.bar([0, 1, 2], tclass[0], color=dark2_colors[2], label='Died')\n",
    "plt.bar([0, 1, 2], tclass[1], bottom=tclass[0], color=dark2_colors[0], label='Survived')\n",
    "plt.xticks([0.5, 1.5, 2.5], ['1st Class', '2nd Class', '3rd Class'], rotation='horizontal')\n",
    "plt.ylabel(\"Count\")\n",
    "plt.xlabel(\"\")\n",
    "plt.legend(loc='upper left')\n",
    "\n",
    "#normalize each row by transposing, normalizing each column, and un-transposing\n",
    "tclass = (1. * tclass.T / tclass.T.sum()).T\n",
    "\n",
    "plt.subplot(122)\n",
    "plt.bar([0, 1, 2], tclass[0], color=dark2_colors[2], label='Died')\n",
    "plt.bar([0, 1, 2], tclass[1], bottom=tclass[0], color=dark2_colors[0], label='Survived')\n",
    "plt.xticks([0.5, 1.5, 2.5], ['1st Class', '2nd Class', '3rd Class'], rotation='horizontal')\n",
    "plt.ylabel(\"Fraction\")\n",
    "plt.xlabel(\"\")"
   ]
  },
  {
   "cell_type": "code",
   "execution_count": 9,
   "metadata": {},
   "outputs": [
    {
     "name": "stdout",
     "output_type": "stream",
     "text": [
      "survived    0    1\n",
      "gender            \n",
      "0          81  233\n",
      "1         468  109\n",
      "\n",
      "[2 rows x 2 columns]\n"
     ]
    },
    {
     "data": {
      "text/plain": [
       "<matplotlib.text.Text at 0x109c3ae10>"
      ]
     },
     "execution_count": 9,
     "metadata": {},
     "output_type": "execute_result"
    },
    {
     "data": {
      "image/png": "[encoded data removed]",
      "text/plain": [
       "<matplotlib.figure.Figure at 0x109447150>"
      ]
     },
     "metadata": {},
     "output_type": "display_data"
    }
   ],
   "source": [
    "### plot the gender distribution ###\n",
    "\n",
    "#first convert gender string to numeric value\n",
    "training_df['gender'] = 0 # create new column by giving a value\n",
    "training_df.gender = training_df.sex.map({'female':0,'male':1}).astype(int) # map sex to numeric value\n",
    "test_df['gender'] = 0 # create new column by giving a value\n",
    "test_df.gender = test_df.sex.map({'female':0,'male':1}).astype(int) # map sex to numeric value\n",
    "\n",
    "gender = training_df.groupby(['gender', 'survived']).size().unstack()\n",
    "print gender\n",
    "\n",
    "plt.subplot(121)\n",
    "plt.bar([0, 1], gender[0], color=dark2_colors[2], label='Died')\n",
    "plt.bar([0, 1], gender[1], bottom=gender[0], color=dark2_colors[0], label='Survived')\n",
    "plt.xticks([0.5, 1.5], ['Female', 'Male'], rotation='horizontal')\n",
    "plt.ylabel(\"Count\")\n",
    "plt.xlabel(\"\")\n",
    "plt.legend(loc='upper left')\n",
    "\n",
    "#normalize each row by transposing, normalizing each column, and un-transposing\n",
    "gender = (1. * gender.T / gender.T.sum()).T\n",
    "\n",
    "plt.subplot(122)\n",
    "plt.bar([0, 1], gender[0], color=dark2_colors[2], label='Died')\n",
    "plt.bar([0, 1], gender[1], bottom=gender[0], color=dark2_colors[0], label='Survived')\n",
    "plt.xticks([0.5, 1.5], ['Female', 'Male'], rotation='horizontal')\n",
    "plt.ylabel(\"Fraction\")\n",
    "plt.xlabel(\"\")"
   ]
  },
  {
   "cell_type": "markdown",
   "metadata": {},
   "source": [
    "## Transform Data"
   ]
  },
  {
   "cell_type": "markdown",
   "metadata": {},
   "source": [
    "### Fill in estimates for null data and normalize the age and fare features"
   ]
  },
  {
   "cell_type": "code",
   "execution_count": 10,
   "metadata": {},
   "outputs": [
    {
     "name": "stdout",
     "output_type": "stream",
     "text": [
      "    survived  gender  pclass  age  AgeFill  penalty\n",
      "5          0       1       3  NaN     25.0        1\n",
      "17         1       1       2  NaN     30.0        1\n",
      "19         1       0       3  NaN     21.5        0\n",
      "26         0       1       3  NaN     25.0        1\n",
      "28         1       0       3  NaN     21.5        0\n",
      "29         0       1       3  NaN     25.0        1\n",
      "31         1       0       1  NaN     35.0        0\n",
      "32         1       0       3  NaN     21.5        0\n",
      "36         1       1       3  NaN     25.0        1\n",
      "42         0       1       3  NaN     25.0        1\n",
      "\n",
      "[10 rows x 6 columns]\n"
     ]
    }
   ],
   "source": [
    "### fill in estimates for the missing ages by gender and class ###\n",
    "\n",
    "# Inspection of the name feature reveals that males <= 12 are usually called 'Master' \n",
    "# and females are titled 'Miss' if they are not married. Female children generally have parent on board, \n",
    "# but female single women don't. Misses with null age and parch >0 generally do not survive \n",
    "# while those with parch == 0 do survive.\n",
    "# Mr. with null ages generally do not survive\n",
    "# Master. with null age have variable survival\n",
    "\n",
    "# Make a new 'penalty' feature to include these observations about the null ages\n",
    "\n",
    "median_ages = np.zeros((2,3))\n",
    "for i in range(0,2):\n",
    "        for j in range(0,3):\n",
    "            median_ages[i,j] = training_df[(training_df.gender == i) & (training_df.pclass == j+1)].age.dropna().median()\n",
    "            \n",
    "training_df['AgeFill']=training_df.age\n",
    "training_df['penalty']=0\n",
    "\n",
    "# fill in null female ages\n",
    "for j in range(0,3):\n",
    "    training_df.loc[(training_df.age.isnull())&(training_df.gender == 0)&(training_df.pclass == j+1)&(training_df['name'].str.contains('Mrs. ')),'AgeFill']=median_ages[0,j]\n",
    "    training_df.loc[(training_df.age.isnull())&(training_df.gender == 0)&(training_df.pclass == j+1)&(training_df['name'].str.contains('Ms. ')),'AgeFill']=median_ages[0,j]\n",
    "    training_df.loc[(training_df.age.isnull())&(training_df.gender == 0)&(training_df.pclass == j+1)&(training_df['name'].str.contains('Miss. '))&(training_df.parch ==0),'AgeFill']=median_ages[0,j]\n",
    "    training_df.loc[(training_df.age.isnull())&(training_df.gender == 0)&(training_df.pclass == j+1)&(training_df['name'].str.contains('Miss. '))&(training_df.parch >0),'AgeFill']=8\n",
    "    training_df.loc[(training_df.age.isnull())&(training_df.gender == 0)&(training_df.pclass == j+1)&(training_df['name'].str.contains('Miss. '))&(training_df.parch >0),'penalty']=1\n",
    "\n",
    "# fill in null male ages\n",
    "for j in range(0,3):\n",
    "    training_df.loc[(training_df.age.isnull())&(training_df.gender == 1)&(training_df.pclass == j+1)&(training_df['name'].str.contains('Mr. ')),'AgeFill']=median_ages[1,j]\n",
    "    training_df.loc[(training_df.age.isnull())&(training_df.gender == 1)&(training_df.pclass == j+1)&(training_df['name'].str.contains('Mr. ')),'penalty']=1\n",
    "    training_df.loc[(training_df.age.isnull())&(training_df.gender == 1)&(training_df.pclass == j+1)&(training_df['name'].str.contains('Master. ')),'AgeFill']=8\n",
    "    training_df.loc[(training_df.age.isnull())&(training_df.gender == 1)&(training_df.pclass == j+1)&(training_df['name'].str.contains('Dr. ')),'AgeFill']=median_ages[1,j]\n",
    "    \n",
    "# check that it worked\n",
    "print training_df[training_df.age.isnull() ][['survived','gender','pclass','age','AgeFill','penalty']].head(10)\n",
    "\n",
    "# do the same for the test data\n",
    "# fill in estimates for the missing ages by gender and class\n",
    "test_median_ages = np.zeros((2,3))\n",
    "for i in range(0,2):\n",
    "        for j in range(0,3):\n",
    "            test_median_ages[i,j] = test_df[(test_df.gender == i) & (test_df.pclass == j+1)].age.dropna().median()\n",
    "            \n",
    "test_df['AgeFill']=test_df.age\n",
    "test_df['penalty']=0\n",
    "\n",
    "# fill in null female ages\n",
    "for j in range(0,3):\n",
    "    test_df.loc[(test_df.age.isnull())&(test_df.gender == 0)&(test_df.pclass == j+1)&(test_df['name'].str.contains('Mrs. ')),'AgeFill']=median_ages[0,j]\n",
    "    test_df.loc[(test_df.age.isnull())&(test_df.gender == 0)&(test_df.pclass == j+1)&(test_df['name'].str.contains('Ms. ')),'AgeFill']=median_ages[0,j]\n",
    "    test_df.loc[(test_df.age.isnull())&(test_df.gender == 0)&(test_df.pclass == j+1)&(test_df['name'].str.contains('Miss. '))&(test_df.parch ==0),'AgeFill']=median_ages[0,j]\n",
    "    test_df.loc[(test_df.age.isnull())&(test_df.gender == 0)&(test_df.pclass == j+1)&(test_df['name'].str.contains('Miss. '))&(test_df.parch >0),'AgeFill']=8\n",
    "    test_df.loc[(test_df.age.isnull())&(test_df.gender == 0)&(test_df.pclass == j+1)&(test_df['name'].str.contains('Miss. '))&(test_df.parch >0),'penalty']=1\n",
    "\n",
    "# fill in null male ages\n",
    "for j in range(0,3):\n",
    "    test_df.loc[(test_df.age.isnull())&(test_df.gender == 1)&(test_df.pclass == j+1)&(test_df['name'].str.contains('Mr. ')),'AgeFill']=median_ages[1,j]\n",
    "    test_df.loc[(test_df.age.isnull())&(test_df.gender == 1)&(test_df.pclass == j+1)&(test_df['name'].str.contains('Mr. ')),'penalty']=1\n",
    "    test_df.loc[(test_df.age.isnull())&(test_df.gender == 1)&(test_df.pclass == j+1)&(test_df['name'].str.contains('Master. ')),'AgeFill']=8\n",
    "    test_df.loc[(test_df.age.isnull())&(test_df.gender == 1)&(test_df.pclass == j+1)&(test_df['name'].str.contains('Dr. ')),'AgeFill']=median_ages[1,j] "
   ]
  },
  {
   "cell_type": "code",
   "execution_count": 11,
   "metadata": {},
   "outputs": [],
   "source": [
    "# fill in estimates for the missing fares, by class, for training data\n",
    "median_fares = np.zeros(3)\n",
    "for i in range(0,3):\n",
    "    median_fares[i] = training_df[(training_df.pclass == i+1)].fare.dropna().median()\n",
    "\n",
    "training_df['FareFill']=training_df.fare\n",
    "for i in range(0,3):\n",
    "    training_df.loc[(training_df.fare.isnull())&(training_df.pclass == i+1),'FareFill']=median_fares[i]\n",
    "        \n",
    "# fill in estimates for the missing fares, by class, for test data\n",
    "test_median_fares = np.zeros(3)\n",
    "for i in range(0,3):\n",
    "    test_median_fares[i] = test_df[(test_df.pclass == i+1)].fare.dropna().median()\n",
    "            \n",
    "test_df['FareFill']=test_df.fare\n",
    "for j in range(0,3):\n",
    "    test_df.loc[(test_df.fare.isnull())&(test_df.pclass == i+1),'FareFill']=test_median_fares[i]"
   ]
  },
  {
   "cell_type": "code",
   "execution_count": 12,
   "metadata": {},
   "outputs": [
    {
     "data": {
      "text/html": [
       "<div style=\"max-height:1000px;max-width:1500px;overflow:auto;\">\n",
       "<table border=\"1\" class=\"dataframe\">\n",
       "  <thead>\n",
       "    <tr style=\"text-align: right;\">\n",
       "      <th></th>\n",
       "      <th>survived</th>\n",
       "      <th>pclass</th>\n",
       "      <th>name</th>\n",
       "      <th>sex</th>\n",
       "      <th>age</th>\n",
       "      <th>sibsp</th>\n",
       "      <th>parch</th>\n",
       "      <th>ticket</th>\n",
       "      <th>fare</th>\n",
       "      <th>cabin</th>\n",
       "      <th>embarked</th>\n",
       "      <th>gender</th>\n",
       "      <th>AgeFill</th>\n",
       "      <th>penalty</th>\n",
       "      <th>FareFill</th>\n",
       "      <th>AgeNorm</th>\n",
       "      <th>FareNorm</th>\n",
       "    </tr>\n",
       "  </thead>\n",
       "  <tbody>\n",
       "    <tr>\n",
       "      <th>0</th>\n",
       "      <td> 0</td>\n",
       "      <td> 3</td>\n",
       "      <td>                           Braund, Mr. Owen Harris</td>\n",
       "      <td>   male</td>\n",
       "      <td> 22</td>\n",
       "      <td> 1</td>\n",
       "      <td> 0</td>\n",
       "      <td>        A/5 21171</td>\n",
       "      <td>  7.2500</td>\n",
       "      <td>  NaN</td>\n",
       "      <td> S</td>\n",
       "      <td> 1</td>\n",
       "      <td> 22</td>\n",
       "      <td> 0</td>\n",
       "      <td>  7.2500</td>\n",
       "      <td>-0.510307</td>\n",
       "      <td>-0.502163</td>\n",
       "    </tr>\n",
       "    <tr>\n",
       "      <th>1</th>\n",
       "      <td> 1</td>\n",
       "      <td> 1</td>\n",
       "      <td> Cumings, Mrs. John Bradley (Florence Briggs Th...</td>\n",
       "      <td> female</td>\n",
       "      <td> 38</td>\n",
       "      <td> 1</td>\n",
       "      <td> 0</td>\n",
       "      <td>         PC 17599</td>\n",
       "      <td> 71.2833</td>\n",
       "      <td>  C85</td>\n",
       "      <td> C</td>\n",
       "      <td> 0</td>\n",
       "      <td> 38</td>\n",
       "      <td> 0</td>\n",
       "      <td> 71.2833</td>\n",
       "      <td> 0.673058</td>\n",
       "      <td> 0.786404</td>\n",
       "    </tr>\n",
       "    <tr>\n",
       "      <th>2</th>\n",
       "      <td> 1</td>\n",
       "      <td> 3</td>\n",
       "      <td>                            Heikkinen, Miss. Laina</td>\n",
       "      <td> female</td>\n",
       "      <td> 26</td>\n",
       "      <td> 0</td>\n",
       "      <td> 0</td>\n",
       "      <td> STON/O2. 3101282</td>\n",
       "      <td>  7.9250</td>\n",
       "      <td>  NaN</td>\n",
       "      <td> S</td>\n",
       "      <td> 0</td>\n",
       "      <td> 26</td>\n",
       "      <td> 0</td>\n",
       "      <td>  7.9250</td>\n",
       "      <td>-0.214466</td>\n",
       "      <td>-0.488580</td>\n",
       "    </tr>\n",
       "    <tr>\n",
       "      <th>3</th>\n",
       "      <td> 1</td>\n",
       "      <td> 1</td>\n",
       "      <td>      Futrelle, Mrs. Jacques Heath (Lily May Peel)</td>\n",
       "      <td> female</td>\n",
       "      <td> 35</td>\n",
       "      <td> 1</td>\n",
       "      <td> 0</td>\n",
       "      <td>           113803</td>\n",
       "      <td> 53.1000</td>\n",
       "      <td> C123</td>\n",
       "      <td> S</td>\n",
       "      <td> 0</td>\n",
       "      <td> 35</td>\n",
       "      <td> 0</td>\n",
       "      <td> 53.1000</td>\n",
       "      <td> 0.451177</td>\n",
       "      <td> 0.420494</td>\n",
       "    </tr>\n",
       "    <tr>\n",
       "      <th>4</th>\n",
       "      <td> 0</td>\n",
       "      <td> 3</td>\n",
       "      <td>                          Allen, Mr. William Henry</td>\n",
       "      <td>   male</td>\n",
       "      <td> 35</td>\n",
       "      <td> 0</td>\n",
       "      <td> 0</td>\n",
       "      <td>           373450</td>\n",
       "      <td>  8.0500</td>\n",
       "      <td>  NaN</td>\n",
       "      <td> S</td>\n",
       "      <td> 1</td>\n",
       "      <td> 35</td>\n",
       "      <td> 0</td>\n",
       "      <td>  8.0500</td>\n",
       "      <td> 0.451177</td>\n",
       "      <td>-0.486064</td>\n",
       "    </tr>\n",
       "  </tbody>\n",
       "</table>\n",
       "<p>5 rows × 17 columns</p>\n",
       "</div>"
      ],
      "text/plain": [
       "   survived  pclass                                               name  \\\n",
       "0         0       3                            Braund, Mr. Owen Harris   \n",
       "1         1       1  Cumings, Mrs. John Bradley (Florence Briggs Th...   \n",
       "2         1       3                             Heikkinen, Miss. Laina   \n",
       "3         1       1       Futrelle, Mrs. Jacques Heath (Lily May Peel)   \n",
       "4         0       3                           Allen, Mr. William Henry   \n",
       "\n",
       "      sex  age  sibsp  parch            ticket     fare cabin embarked  \\\n",
       "0    male   22      1      0         A/5 21171   7.2500   NaN        S   \n",
       "1  female   38      1      0          PC 17599  71.2833   C85        C   \n",
       "2  female   26      0      0  STON/O2. 3101282   7.9250   NaN        S   \n",
       "3  female   35      1      0            113803  53.1000  C123        S   \n",
       "4    male   35      0      0            373450   8.0500   NaN        S   \n",
       "\n",
       "   gender  AgeFill  penalty  FareFill   AgeNorm  FareNorm  \n",
       "0       1       22        0    7.2500 -0.510307 -0.502163  \n",
       "1       0       38        0   71.2833  0.673058  0.786404  \n",
       "2       0       26        0    7.9250 -0.214466 -0.488580  \n",
       "3       0       35        0   53.1000  0.451177  0.420494  \n",
       "4       1       35        0    8.0500  0.451177 -0.486064  \n",
       "\n",
       "[5 rows x 17 columns]"
      ]
     },
     "execution_count": 12,
     "metadata": {},
     "output_type": "execute_result"
    }
   ],
   "source": [
    "# Normalize the AgeFill and FareFill features\n",
    "\n",
    "training_df['AgeNorm'] = training_df.AgeFill\n",
    "training_df.AgeNorm = (training_df.AgeNorm - training_df.AgeFill.mean()) / training_df.AgeFill.std()\n",
    "test_df['AgeNorm'] = test_df.AgeFill\n",
    "test_df.AgeNorm = (test_df.AgeNorm - test_df.AgeFill.mean()) / test_df.AgeFill.std()\n",
    "\n",
    "training_df['FareNorm'] = training_df.FareFill\n",
    "training_df.FareNorm = (training_df.FareNorm - training_df.FareFill.mean()) / training_df.FareFill.std()\n",
    "test_df['FareNorm'] = test_df.FareFill\n",
    "test_df.FareNorm = (test_df.AgeNorm - test_df.FareFill.mean()) / test_df.FareFill.std()\n",
    "\n",
    "# check results\n",
    "training_df.head(5)"
   ]
  },
  {
   "cell_type": "markdown",
   "metadata": {},
   "source": [
    "### Create new features"
   ]
  },
  {
   "cell_type": "code",
   "execution_count": 13,
   "metadata": {},
   "outputs": [],
   "source": [
    "# Group ages to simplify machine learning algorithms.  0:0-5, 1:6-10, 2:11-15, 3:16-59, 4:>60\n",
    "training_df['AgeGroup']=0\n",
    "training_df.loc[(training_df.AgeFill<6),'AgeGroup']=0\n",
    "training_df.loc[(training_df.AgeFill>=6) & (training_df.AgeFill <11),'AgeGroup']=1\n",
    "training_df.loc[(training_df.AgeFill>=11) & (training_df.AgeFill <16),'AgeGroup']=2\n",
    "training_df.loc[(training_df.AgeFill>=16) & (training_df.AgeFill <60),'AgeGroup']=3\n",
    "training_df.loc[(training_df.AgeFill>=60),'AgeGroup']=4\n",
    "\n",
    "test_df['AgeGroup']=0\n",
    "test_df.loc[(training_df.AgeFill<6),'AgeGroup']=0\n",
    "test_df.loc[(training_df.AgeFill>=6) & (test_df.AgeFill <11),'AgeGroup']=1\n",
    "test_df.loc[(training_df.AgeFill>=11) & (test_df.AgeFill <16),'AgeGroup']=2\n",
    "test_df.loc[(training_df.AgeFill>=16) & (test_df.AgeFill <60),'AgeGroup']=3\n",
    "test_df.loc[(training_df.AgeFill>=60),'AgeGroup']=4"
   ]
  },
  {
   "cell_type": "code",
   "execution_count": 14,
   "metadata": {},
   "outputs": [
    {
     "name": "stdout",
     "output_type": "stream",
     "text": [
      "survived    0    1\n",
      "AgeGroup          \n",
      "0          13   31\n",
      "1          23   10\n",
      "2           8   11\n",
      "3         486  283\n",
      "4          19    7\n",
      "\n",
      "[5 rows x 2 columns]\n"
     ]
    },
    {
     "data": {
      "text/plain": [
       "<matplotlib.text.Text at 0x109cb4950>"
      ]
     },
     "execution_count": 14,
     "metadata": {},
     "output_type": "execute_result"
    },
    {
     "data": {
      "image/png": "[encoded data removed]",
      "text/plain": [
       "<matplotlib.figure.Figure at 0x10953d090>"
      ]
     },
     "metadata": {},
     "output_type": "display_data"
    }
   ],
   "source": [
    "### plot age groups ###\n",
    "age_group = training_df.groupby(['AgeGroup', 'survived']).size().unstack()\n",
    "print age_group\n",
    "\n",
    "plt.subplot(121)\n",
    "plt.bar([0, 1, 2, 3, 4], age_group[0], color=dark2_colors[2], label='Died')\n",
    "plt.bar([0, 1, 2, 3, 4], age_group[1], bottom=age_group[0], color=dark2_colors[0], label='Survived')\n",
    "plt.xticks([0.5, 1.5, 2.5, 3.5, 4.5], ['0-5', '6-10', '11-15','16-59','>60'], rotation='horizontal')\n",
    "plt.ylabel(\"Count\")\n",
    "plt.xlabel(\"\")\n",
    "plt.legend(loc='upper left')\n",
    "\n",
    "# normalize each row by transposing, normalizing each column, and un-transposing\n",
    "age_group = (1. * age_group.T / age_group.T.sum()).T\n",
    "\n",
    "plt.subplot(122)\n",
    "plt.bar([0, 1, 2, 3, 4], age_group[0], color=dark2_colors[2], label='Died')\n",
    "plt.bar([0, 1, 2, 3, 4], age_group[1], bottom=age_group[0], color=dark2_colors[0], label='Survived')\n",
    "plt.xticks([0.5, 1.5, 2.5, 3.5, 4.5], ['0-5', '6-10', '11-15','16-59','>60'], rotation='horizontal')\n",
    "plt.ylabel(\"Fraction\")\n",
    "plt.xlabel(\"\")"
   ]
  },
  {
   "cell_type": "code",
   "execution_count": 15,
   "metadata": {},
   "outputs": [],
   "source": [
    "# combine parent and sibling data into FamilySize\n",
    "training_df['FamilySize']=training_df.sibsp+training_df.parch\n",
    "test_df['FamilySize']=test_df.sibsp+test_df.parch"
   ]
  },
  {
   "cell_type": "markdown",
   "metadata": {},
   "source": [
    "### Reduce the dataframe"
   ]
  },
  {
   "cell_type": "code",
   "execution_count": 16,
   "metadata": {},
   "outputs": [
    {
     "data": {
      "text/html": [
       "<div style=\"max-height:1000px;max-width:1500px;overflow:auto;\">\n",
       "<table border=\"1\" class=\"dataframe\">\n",
       "  <thead>\n",
       "    <tr style=\"text-align: right;\">\n",
       "      <th></th>\n",
       "      <th>survived</th>\n",
       "      <th>pclass</th>\n",
       "      <th>sibsp</th>\n",
       "      <th>parch</th>\n",
       "      <th>gender</th>\n",
       "      <th>penalty</th>\n",
       "      <th>AgeNorm</th>\n",
       "      <th>FareNorm</th>\n",
       "      <th>AgeGroup</th>\n",
       "      <th>FamilySize</th>\n",
       "    </tr>\n",
       "  </thead>\n",
       "  <tbody>\n",
       "    <tr>\n",
       "      <th>0</th>\n",
       "      <td> 0</td>\n",
       "      <td> 3</td>\n",
       "      <td> 1</td>\n",
       "      <td> 0</td>\n",
       "      <td> 1</td>\n",
       "      <td> 0</td>\n",
       "      <td>-0.510307</td>\n",
       "      <td>-0.502163</td>\n",
       "      <td> 3</td>\n",
       "      <td> 1</td>\n",
       "    </tr>\n",
       "    <tr>\n",
       "      <th>1</th>\n",
       "      <td> 1</td>\n",
       "      <td> 1</td>\n",
       "      <td> 1</td>\n",
       "      <td> 0</td>\n",
       "      <td> 0</td>\n",
       "      <td> 0</td>\n",
       "      <td> 0.673058</td>\n",
       "      <td> 0.786404</td>\n",
       "      <td> 3</td>\n",
       "      <td> 1</td>\n",
       "    </tr>\n",
       "    <tr>\n",
       "      <th>2</th>\n",
       "      <td> 1</td>\n",
       "      <td> 3</td>\n",
       "      <td> 0</td>\n",
       "      <td> 0</td>\n",
       "      <td> 0</td>\n",
       "      <td> 0</td>\n",
       "      <td>-0.214466</td>\n",
       "      <td>-0.488580</td>\n",
       "      <td> 3</td>\n",
       "      <td> 0</td>\n",
       "    </tr>\n",
       "    <tr>\n",
       "      <th>3</th>\n",
       "      <td> 1</td>\n",
       "      <td> 1</td>\n",
       "      <td> 1</td>\n",
       "      <td> 0</td>\n",
       "      <td> 0</td>\n",
       "      <td> 0</td>\n",
       "      <td> 0.451177</td>\n",
       "      <td> 0.420494</td>\n",
       "      <td> 3</td>\n",
       "      <td> 1</td>\n",
       "    </tr>\n",
       "    <tr>\n",
       "      <th>4</th>\n",
       "      <td> 0</td>\n",
       "      <td> 3</td>\n",
       "      <td> 0</td>\n",
       "      <td> 0</td>\n",
       "      <td> 1</td>\n",
       "      <td> 0</td>\n",
       "      <td> 0.451177</td>\n",
       "      <td>-0.486064</td>\n",
       "      <td> 3</td>\n",
       "      <td> 0</td>\n",
       "    </tr>\n",
       "  </tbody>\n",
       "</table>\n",
       "<p>5 rows × 10 columns</p>\n",
       "</div>"
      ],
      "text/plain": [
       "   survived  pclass  sibsp  parch  gender  penalty   AgeNorm  FareNorm  \\\n",
       "0         0       3      1      0       1        0 -0.510307 -0.502163   \n",
       "1         1       1      1      0       0        0  0.673058  0.786404   \n",
       "2         1       3      0      0       0        0 -0.214466 -0.488580   \n",
       "3         1       1      1      0       0        0  0.451177  0.420494   \n",
       "4         0       3      0      0       1        0  0.451177 -0.486064   \n",
       "\n",
       "   AgeGroup  FamilySize  \n",
       "0         3           1  \n",
       "1         3           1  \n",
       "2         3           0  \n",
       "3         3           1  \n",
       "4         3           0  \n",
       "\n",
       "[5 rows x 10 columns]"
      ]
     },
     "execution_count": 16,
     "metadata": {},
     "output_type": "execute_result"
    }
   ],
   "source": [
    "# Drop the non-numeric attributes, attributes with null values, and un-normalized attributes from the training data and test data\n",
    "# so we can use the machine learning algorithms\n",
    "training_df = training_df.drop(['name','cabin','embarked','age', 'AgeFill', 'sex','ticket','fare', 'FareFill'],axis=1)\n",
    "test_df = test_df.drop(['name','cabin','embarked','age', 'AgeFill', 'sex','ticket','fare', 'FareFill'],axis=1)\n",
    "\n",
    "# check results\n",
    "training_df.head(5)"
   ]
  },
  {
   "cell_type": "code",
   "execution_count": 17,
   "metadata": {},
   "outputs": [],
   "source": [
    "# convert dataframes to arrays for use with machine learning algorithms\n",
    "training_data = training_df.values\n",
    "test_data = test_df.values"
   ]
  },
  {
   "cell_type": "markdown",
   "metadata": {},
   "source": [
    "## Make predictions using machine learning tools"
   ]
  },
  {
   "cell_type": "markdown",
   "metadata": {},
   "source": [
    "### Feature Selection"
   ]
  },
  {
   "cell_type": "code",
   "execution_count": 20,
   "metadata": {},
   "outputs": [
    {
     "name": "stdout",
     "output_type": "stream",
     "text": [
      "ranking of features: [1 1 3 1 1 2 1 1 1]\n",
      "number of selected features: 7\n",
      "fit to training data with reduced features: 0.79797979798\n"
     ]
    }
   ],
   "source": [
    "from sklearn.feature_selection import RFECV\n",
    "from sklearn import svm\n",
    "\n",
    "# data\n",
    "X = training_data[0::,1::]\n",
    "Y = training_data[:,0]\n",
    "\n",
    "# build model\n",
    "estimator = svm.SVC(kernel='linear', C=10.0)\n",
    "selector = RFECV(estimator, step=1, cv=5)\n",
    "selector = selector.fit(X, Y)\n",
    "reduced_X = selector.transform(X)\n",
    "reduced_test = selector.transform(test_data)\n",
    "\n",
    "print \"ranking of features:\",selector.ranking_\n",
    "print \"number of selected features:\",selector.n_features_\n",
    "print \"fit to training data with reduced features:\",selector.score(X,Y)"
   ]
  },
  {
   "cell_type": "markdown",
   "metadata": {},
   "source": [
    "### Classifiers"
   ]
  },
  {
   "cell_type": "markdown",
   "metadata": {},
   "source": [
    "#### Logistic Regression"
   ]
  },
  {
   "cell_type": "code",
   "execution_count": 27,
   "metadata": {},
   "outputs": [
    {
     "name": "stdout",
     "output_type": "stream",
     "text": [
      "fit to all training data: 0.817059483726\n",
      "mean fit to cv training data: 0.814535827411 std = 0.00586100031664\n",
      "mean cv score: 0.797978783504 std = 0.0216175159585\n"
     ]
    }
   ],
   "source": [
    "from sklearn.linear_model import LogisticRegression\n",
    "from sklearn.cross_validation import cross_val_score, KFold\n",
    "import csv\n",
    "\n",
    "# data\n",
    "X = training_data[0::,1::]\n",
    "#X = reduced_X\n",
    "Y = training_data[:,0]\n",
    "#test = reduced_test\n",
    "test = test_data\n",
    "\n",
    "# model parameters\n",
    "reg=0.6\n",
    "\n",
    "# build model\n",
    "lr = LogisticRegression(penalty='l1',C=reg)\n",
    "lr.fit(X, Y)\n",
    "output_lr = lr.predict(test)\n",
    "print \"fit to all training data:\",lr.score(X,Y)\n",
    "\n",
    "# cross-validation where the model is fit to a portion of the training data, and the \n",
    "# is tested against the rest of the training data\n",
    "train_scores = []\n",
    "scores = []\n",
    "for train, test in KFold(len(Y), n_folds=5):\n",
    "    xtrain, xtest, ytrain, ytest = X[train], X[test], Y[train], Y[test]\n",
    "    lr.fit(xtrain,ytrain)\n",
    "    train_scores.append(lr.score(xtrain,ytrain))\n",
    "    scores.append(lr.score(xtest,ytest))\n",
    "print \"mean fit to cv training data:\", np.mean(train_scores), \"std =\", np.std(train_scores)\n",
    "print \"mean cv score:\", np.mean(scores), \"std =\", np.std(scores)\n",
    "\n",
    "# write prediction to output file\n",
    "with open('data/titanic/logistic_regression_r0.6_l1_Xnew.csv', 'wb') as f:\n",
    "    writer = csv.writer(f)\n",
    "    writer.writerow(['PassengerId','Survived'])\n",
    "    for x in range(0,418):\n",
    "        row_id = 892+x\n",
    "        survive = int(output_lr[x])\n",
    "        writer.writerow([row_id, survive])\n"
   ]
  },
  {
   "cell_type": "markdown",
   "metadata": {},
   "source": [
    "#### Decision Tree"
   ]
  },
  {
   "cell_type": "code",
   "execution_count": 133,
   "metadata": {},
   "outputs": [
    {
     "name": "stdout",
     "output_type": "stream",
     "text": [
      "fit to all training data: 0.843995510662\n",
      "mean fit to cv training data: 0.846521266369 std = 0.00648183929956\n",
      "mean cv score: 0.820425585337 std = 0.0305677422385\n"
     ]
    },
    {
     "data": {
      "text/plain": [
       "True"
      ]
     },
     "execution_count": 133,
     "metadata": {},
     "output_type": "execute_result"
    }
   ],
   "source": [
    "from sklearn import tree\n",
    "from sklearn.externals.six import StringIO\n",
    "from sklearn.cross_validation import cross_val_score, KFold\n",
    "import pydot, csv\n",
    "\n",
    "# data\n",
    "#X = training_data[0::,1::]\n",
    "X = reduced_X\n",
    "Y = training_data[:,0]\n",
    "#test = test_data\n",
    "test = reduced_test\n",
    "\n",
    "# build model\n",
    "#dtc = tree.DecisionTreeClassifier()\n",
    "dtc = tree.DecisionTreeClassifier(min_samples_leaf=5, max_depth=5, criterion='gini')\n",
    "dtc.fit(X,Y)\n",
    "output_dt = dtc.predict(test)\n",
    "print \"fit to all training data:\",dtc.score(X,Y)\n",
    "\n",
    "# cross-validation where the model is fit to a portion of the training data, and the \n",
    "# is tested against the rest of the training data\n",
    "train_scores = []\n",
    "scores = []\n",
    "for train, test in KFold(len(Y), n_folds=5):\n",
    "    xtrain, xtest, ytrain, ytest = X[train], X[test], Y[train], Y[test]\n",
    "    dtc.fit(xtrain,ytrain)\n",
    "    train_scores.append(dtc.score(xtrain,ytrain))\n",
    "    scores.append(dtc.score(xtest,ytest))\n",
    "print \"mean fit to cv training data:\", np.mean(train_scores), \"std =\", np.std(train_scores)\n",
    "print \"mean cv score:\", np.mean(scores), \"std =\", np.std(scores)\n",
    "\n",
    "# write prediction to output file\n",
    "with open('data/titanic/decision_tree_ml5_md5_Xred.csv', 'wb') as f:\n",
    "    writer = csv.writer(f)\n",
    "    writer.writerow(['PassengerId','Survived'])\n",
    "    for x in range(0,418):\n",
    "        row_id = 892+x\n",
    "        survive = int(output_dt[x])\n",
    "        writer.writerow([row_id, survive])\n",
    "\n",
    "# make decision tree plot\n",
    "dot_data = StringIO()\n",
    "tree.export_graphviz(dtc,out_file=dot_data)\n",
    "graph = pydot.graph_from_dot_data(dot_data.getvalue())\n",
    "graph.write_pdf(\"data/titanic/decision_tree_ml5_md3_Xred.pdf\")"
   ]
  },
  {
   "cell_type": "markdown",
   "metadata": {},
   "source": [
    "### Ensemble Classifiers"
   ]
  },
  {
   "cell_type": "markdown",
   "metadata": {},
   "source": [
    "#### Random Forest"
   ]
  },
  {
   "cell_type": "code",
   "execution_count": 21,
   "metadata": {},
   "outputs": [
    {
     "name": "stdout",
     "output_type": "stream",
     "text": [
      "fit to all training data: 0.812570145903\n",
      "mean fit to cv training data: 0.829684274391 std = 0.00892536255976\n",
      "mean cv score: 0.800295022284 std = 0.0368625437113\n"
     ]
    }
   ],
   "source": [
    "from sklearn.ensemble import RandomForestClassifier\n",
    "from sklearn.cross_validation import cross_val_score, KFold\n",
    "import csv\n",
    "\n",
    "# data\n",
    "#X = training_data[0::,1::]\n",
    "X = reduced_X\n",
    "Y = training_data[:,0]\n",
    "test = reduced_test\n",
    "#test = test_data\n",
    "\n",
    "# build model\n",
    "forest = RandomForestClassifier(min_samples_leaf=5, max_depth=3, n_estimators = 1000)\n",
    "forest = forest.fit(X, Y)\n",
    "output_forest = forest.predict(test)\n",
    "print \"fit to all training data:\",forest.score(X,Y)\n",
    "\n",
    "# cross-validation where the model is fit to a portion of the training data, and the \n",
    "# is tested against the rest of the training data\n",
    "train_scores = []\n",
    "scores = []\n",
    "for train, test in KFold(len(Y), n_folds=5):\n",
    "    xtrain, xtest, ytrain, ytest = X[train], X[test], Y[train], Y[test]\n",
    "    forest.fit(xtrain,ytrain)\n",
    "    train_scores.append(forest.score(xtrain,ytrain))\n",
    "    scores.append(forest.score(xtest,ytest))\n",
    "print \"mean fit to cv training data:\", np.mean(train_scores), \"std =\", np.std(train_scores)\n",
    "print \"mean cv score:\", np.mean(scores), \"std =\", np.std(scores)\n",
    "\n",
    "# write prediction to output file\n",
    "with open('data/titanic/random_forest_msl5_md3_n1000_Xred.csv', 'wb') as f:\n",
    "    writer = csv.writer(f)\n",
    "    writer.writerow(['PassengerId','Survived'])\n",
    "    for x in range(0,418):\n",
    "        row_id = 892+x\n",
    "        survive = int(output_forest[x])\n",
    "        writer.writerow([row_id, survive])"
   ]
  },
  {
   "cell_type": "markdown",
   "metadata": {},
   "source": [
    "#### AdaBoost"
   ]
  },
  {
   "cell_type": "code",
   "execution_count": 36,
   "metadata": {},
   "outputs": [
    {
     "name": "stdout",
     "output_type": "stream",
     "text": [
      "fit to all training data: 0.867564534231\n",
      "mean fit to cv training data: 0.875141434357 std = 0.00643595124465\n",
      "mean cv score: 0.811474483711 std = 0.0140714126725\n"
     ]
    }
   ],
   "source": [
    "from sklearn.ensemble import AdaBoostClassifier\n",
    "from sklearn.cross_validation import cross_val_score, KFold\n",
    "import csv\n",
    "\n",
    "#data\n",
    "X = training_data[0::,1::]\n",
    "#X = reduced_X\n",
    "Y = training_data[:,0]\n",
    "test = test_data\n",
    "#test = reduced_test\n",
    "\n",
    "# build model\n",
    "ada = AdaBoostClassifier(n_estimators = 3000, learning_rate=0.3)\n",
    "ada.fit(X,Y)\n",
    "output_ada = ada.predict(test)\n",
    "print \"fit to all training data:\",ada.score(X,Y)\n",
    "\n",
    "# cross-validation where the model is fit to a portion of the training data, and the \n",
    "# is tested against the rest of the training data\n",
    "train_scores = []\n",
    "scores = []\n",
    "for train, test in KFold(len(Y), n_folds=5):\n",
    "    xtrain, xtest, ytrain, ytest = X[train], X[test], Y[train], Y[test]\n",
    "    ada.fit(xtrain,ytrain)\n",
    "    train_scores.append(ada.score(xtrain,ytrain))\n",
    "    scores.append(ada.score(xtest,ytest))\n",
    "print \"mean fit to cv training data:\", np.mean(train_scores), \"std =\", np.std(train_scores)\n",
    "print \"mean cv score:\", np.mean(scores), \"std =\", np.std(scores)\n",
    "\n",
    "# write prediction to output file\n",
    "with open('data/titanic/adaboost_n3000_lr0.3_Xnew.csv', 'wb') as f:\n",
    "    writer = csv.writer(f)\n",
    "    writer.writerow(['PassengerId','Survived'])\n",
    "    for x in range(0,418):\n",
    "        row_id = 892+x\n",
    "        survive = int(output_ada[x])\n",
    "        writer.writerow([row_id, survive])"
   ]
  },
  {
   "cell_type": "markdown",
   "metadata": {},
   "source": [
    "#### Gradient Boosting"
   ]
  },
  {
   "cell_type": "code",
   "execution_count": 71,
   "metadata": {},
   "outputs": [
    {
     "name": "stdout",
     "output_type": "stream",
     "text": [
      "{'max_features': 4, 'n_estimators': 300, 'learning_rate': 0.01, 'max_depth': 4}\n"
     ]
    }
   ],
   "source": [
    "from sklearn import grid_search\n",
    "from sklearn.ensemble import GradientBoostingClassifier\n",
    "\n",
    "#data\n",
    "X = training_data[0::,1::]\n",
    "Y = training_data[:,0]\n",
    "test = test_data\n",
    "\n",
    "# model paramters\n",
    "# Learning rate shrinks the contribution of each tree by learning_rate. \n",
    "# There is a trade-off between learning_rate and n_estimators.\n",
    "# Choosing max_features < n_features leads to a reduction of variance and an increase in bias.\n",
    "\n",
    "# grid search the parameters\n",
    "parameters = {'n_estimators':(50,100,300,600,1000,2000,3000,5000),'learning_rate':(0.005,0.01,0.02,0.04,0.06,0.08,0.1,0.2,0.4,0.6,0.8,1.0), 'max_features':(2,3,4,5,6), 'max_depth':(2,3,4,5,6)}\n",
    "gbc = GradientBoostingClassifier()\n",
    "clf = grid_search.GridSearchCV(gbc, param_grid=parameters, cv=3)\n",
    "clf.fit(X,Y)\n",
    "\n",
    "grid_scores = clf.grid_scores_\n",
    "print clf.best_params_\n",
    "\n",
    "# write grid search results to file\n",
    "f = open('data/titanic/GBC_grid_scores.txt', \"w\")\n",
    "f.write(\"\\n\".join(map(lambda x: str(x), grid_scores)))\n",
    "f.close()"
   ]
  },
  {
   "cell_type": "code",
   "execution_count": 42,
   "metadata": {},
   "outputs": [
    {
     "name": "stdout",
     "output_type": "stream",
     "text": [
      "fit to all training data: 0.861952861953\n",
      "mean fit to cv training data: 0.867002852325 std = 0.0061179059203\n",
      "mean cv score: 0.830531667817 std = 0.0151886880922\n"
     ]
    }
   ],
   "source": [
    "from sklearn.ensemble import GradientBoostingClassifier\n",
    "from sklearn.cross_validation import cross_val_score, KFold\n",
    "from sklearn import grid_search\n",
    "import csv\n",
    "\n",
    "#data\n",
    "X = training_data[0::,1::]\n",
    "#X = reduced_X\n",
    "Y = training_data[:,0]\n",
    "test = test_data\n",
    "#test = reduced_test\n",
    "\n",
    "# build model\n",
    "gbc = GradientBoostingClassifier(n_estimators=200, learning_rate=0.03, max_features=3, max_depth=3, random_state=0).fit(X, Y)\n",
    "output_gbc = gbc.predict(test)\n",
    "print \"fit to all training data:\",gbc.score(X,Y)\n",
    "\n",
    "# cross-validation where the model is fit to a portion of the training data, and the \n",
    "# is tested against the rest of the training data\n",
    "train_scores = []\n",
    "scores = []\n",
    "for train, test in KFold(len(Y), n_folds=5):\n",
    "    xtrain, xtest, ytrain, ytest = X[train], X[test], Y[train], Y[test]\n",
    "    gbc = GradientBoostingClassifier(n_estimators=200, learning_rate=0.03, max_features=3, max_depth=3, random_state=0).fit(xtrain, ytrain)\n",
    "    train_scores.append(gbc.score(xtrain,ytrain))\n",
    "    scores.append(gbc.score(xtest,ytest))\n",
    "print \"mean fit to cv training data:\", np.mean(train_scores), \"std =\", np.std(train_scores)\n",
    "print \"mean cv score:\", np.mean(scores), \"std =\", np.std(scores)\n",
    "\n",
    "# write prediction to output file\n",
    "with open('data/titanic/GBC_n200_lr0.03_mf3_md3_Xnew.csv', 'wb') as f:\n",
    "    writer = csv.writer(f)\n",
    "    writer.writerow(['PassengerId','Survived'])\n",
    "    for x in range(0,418):\n",
    "        row_id = 892+x\n",
    "        survive = int(output_gbc[x])\n",
    "        writer.writerow([row_id, survive])"
   ]
  }
 ],
 "metadata": {
  "kernelspec": {
   "display_name": "Python 2",
   "language": "python",
   "name": "python2"
  },
  "language_info": {
   "codemirror_mode": {
    "name": "ipython",
    "version": 2
   },
   "file_extension": ".py",
   "mimetype": "text/x-python",
   "name": "python",
   "nbconvert_exporter": "python",
   "pygments_lexer": "ipython2",
   "version": "2.7.15"
  }
 },
 "nbformat": 4,
 "nbformat_minor": 1
}
